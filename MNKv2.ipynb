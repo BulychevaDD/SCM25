{
 "cells": [
  {
   "cell_type": "markdown",
   "metadata": {},
   "source": [
    "# Задача нелинейный метод найменьших квадратов\n",
    "Математический метод, применяемый для решения различных задач, основанный на минимизации суммы квадратов отклонений некоторых функций от искомых переменных. \n",
    "Он может использоваться для «решения» переопределенных систем уравнений (когда количество уравнений превышает количество неизвестных), для поиска решения в случае обычных (не переопределенных) нелинейных систем уравнений, для аппроксимации точечных значений некоторой функции. \n",
    "МНК является одним из базовых методов регрессионного анализа для оценки неизвестных параметров регрессионных моделей по выборочным данным"
   ]
  },
  {
   "cell_type": "code",
   "execution_count": 3,
   "metadata": {},
   "outputs": [],
   "source": [
    "import matplotlib.pyplot as plt\n",
    "import matplotlib as mpl\n",
    "import scipy as sp\n",
    "import numpy as np\n",
    "import math\n",
    "\n",
    "mpl.rcParams['font.family'] = 'fantasy'"
   ]
  },
  {
   "cell_type": "markdown",
   "metadata": {},
   "source": [
    "Ниже предствленны входные значения точек t и y исходищих из условия задачи для дальнейшего решение метода наимешьних квадратов"
   ]
  },
  {
   "cell_type": "code",
   "execution_count": 231,
   "metadata": {},
   "outputs": [],
   "source": [
    "x=[2.5134, 2.0443, 1.6684, 1.3664, 1.1232, 0.9269, 0.7679, 0.6389, 0.5338, 0.4479, 0.3776, 0.3197, 0.2720, 0.2325, 0.1997, 0.1723, 0.1493, 0.1301, 0.1138, 0.1,0.0883,0.0783,0.0698,0.0624] \n",
    "y=[0, 0.05, 0.1, 0.15, 0.2, 0.25, 0.3, 0.35, 0.4, 0.45,\n",
    "   0.5, 0.55, 0.6, 0.65, 0.7, 0.75, 0.8, 0.85, 0.9, 0.95,1,1.05,1.1,1.15]"
   ]
  },
  {
   "cell_type": "markdown",
   "metadata": {},
   "source": [
    "В функции mnkGP на вход мы подаём массивы иcходящих из условия "
   ]
  },
  {
   "cell_type": "code",
   "execution_count": 258,
   "metadata": {},
   "outputs": [],
   "source": [
    "def mnkGP(x,y):\n",
    "              d=2 # степень полинома\n",
    "              fp, residuals, rank, sv, rcond = np.polyfit(x, y, d, full=True) # Модель\n",
    "              f = np.poly1d(fp) # аппроксимирующая функция\n",
    "              print('Коэффициент -- a %s  '%round(fp[0],4))\n",
    "              print('Коэффициент-- b %s  '%round(fp[1],4))\n",
    "              print('Коэффициент -- c %s  '%round(fp[2],4))\n",
    "              y1=[fp[0]*math.exp(x[i])+fp[1]*math.exp(x[i])+fp[2]*math.exp(x[i]) for i in range(0,len(x))]\n",
    "              so=round(sum([abs(y[i]-y1[i]) for i in range(0,len(x))])/(len(x)*sum(y))*100,4) # средняя ошибка\n",
    "              print('Average quadratic deviation '+str(so))          \n",
    "              plt.plot(x, y, 'o', label='Original data', markersize=12)\n",
    "              plt.plot(y1, f(y1), linewidth=13)\n",
    "              plt.grid(True)\n",
    "              plt.show()"
   ]
  },
  {
   "cell_type": "markdown",
   "metadata": {},
   "source": [
    "В самой функции мы создаём систему уравнений исходя из которой будут выстренны дальнейшие точки нашего графика \n",
    "и решаем эту систему методом round мы округляем полученные значения системы уравнений и получаем аппроксимацию гиперболой и среднюю ошибку системы"
   ]
  },
  {
   "cell_type": "markdown",
   "metadata": {},
   "source": [
    "Далее работаем с библиотекой matplotlib для вывода графика аппроксимации и средней ошибки в графический интерфейс "
   ]
  },
  {
   "cell_type": "code",
   "execution_count": 259,
   "metadata": {
    "scrolled": false
   },
   "outputs": [
    {
     "name": "stdout",
     "output_type": "stream",
     "text": [
      "Коэффициент -- a 0.3122  \n",
      "Коэффициент-- b -1.1349  \n",
      "Коэффициент -- c 1.005  \n",
      "Average quadratic deviation 4.371\n"
     ]
    },
    {
     "data": {
      "image/png": "[encoded data removed]",
      "text/plain": [
       "<Figure size 432x288 with 1 Axes>"
      ]
     },
     "metadata": {
      "needs_background": "light"
     },
     "output_type": "display_data"
    }
   ],
   "source": [
    "mnkGP(x,y)"
   ]
  },
  {
   "cell_type": "markdown",
   "metadata": {},
   "source": [
    "#Вывод \n",
    "Мы смогли решить систему уравнений с помощью метода найменьших квадратов и вывести график на экран\n",
    "Результаты оказались не очень точными но близкими к реальным"
   ]
  },
  {
   "cell_type": "code",
   "execution_count": null,
   "metadata": {},
   "outputs": [],
   "source": []
  }
 ],
 "metadata": {
  "kernelspec": {
   "display_name": "Python 3",
   "language": "python",
   "name": "python3"
  },
  "language_info": {
   "codemirror_mode": {
    "name": "ipython",
    "version": 3
   },
   "file_extension": ".py",
   "mimetype": "text/x-python",
   "name": "python",
   "nbconvert_exporter": "python",
   "pygments_lexer": "ipython3",
   "version": "3.8.1"
  }
 },
 "nbformat": 4,
 "nbformat_minor": 2
}
